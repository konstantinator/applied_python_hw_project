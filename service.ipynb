{
 "cells": [
  {
   "cell_type": "markdown",
   "metadata": {},
   "source": [
    "# Проверяем что сервис работает"
   ]
  },
  {
   "cell_type": "code",
   "execution_count": 3,
   "metadata": {
    "ExecuteTime": {
     "end_time": "2024-03-20T10:43:52.769041Z",
     "start_time": "2024-03-20T10:43:52.730123Z"
    }
   },
   "outputs": [
    {
     "data": {
      "text/plain": "b'{\"message\":\"pong\"}'"
     },
     "execution_count": 3,
     "metadata": {},
     "output_type": "execute_result"
    }
   ],
   "source": [
    "import requests\n",
    "data = requests.get('http://localhost:5555/ping')\n",
    "data.content"
   ]
  },
  {
   "cell_type": "markdown",
   "metadata": {},
   "source": [
    "# Обучаем на дефолтных данных"
   ]
  },
  {
   "cell_type": "code",
   "execution_count": 4,
   "metadata": {
    "ExecuteTime": {
     "end_time": "2024-03-20T10:43:52.787655Z",
     "start_time": "2024-03-20T10:43:52.742470Z"
    }
   },
   "outputs": [
    {
     "data": {
      "text/plain": "b'{\"message\":\"Model trained on default data and saved successfully\"}'"
     },
     "execution_count": 4,
     "metadata": {},
     "output_type": "execute_result"
    }
   ],
   "source": [
    "data = requests.get('http://localhost:5555/train')\n",
    "data.content"
   ]
  },
  {
   "cell_type": "markdown",
   "metadata": {},
   "source": [
    "# Обучаем на своих данных"
   ]
  },
  {
   "cell_type": "code",
   "execution_count": 5,
   "metadata": {
    "ExecuteTime": {
     "end_time": "2024-03-20T10:44:13.614647Z",
     "start_time": "2024-03-20T10:43:52.773210Z"
    }
   },
   "outputs": [
    {
     "data": {
      "text/plain": "b'{\"message\":\"Model trained on user data  and saved successfully\"}'"
     },
     "execution_count": 5,
     "metadata": {},
     "output_type": "execute_result"
    }
   ],
   "source": [
    "from sklearn.datasets import load_iris\n",
    "iris = load_iris()\n",
    "X, y = iris.data, iris.target\n",
    "\n",
    "data = requests.post('http://localhost:5555/train_user',\n",
    "        json= {\n",
    "            'data': X.tolist(),\n",
    "            'target': y.tolist()\n",
    "})\n",
    "data.content"
   ]
  },
  {
   "cell_type": "markdown",
   "metadata": {},
   "source": [
    "# Предикт 1 объекта и проверяем работу кэша"
   ]
  },
  {
   "cell_type": "code",
   "execution_count": 6,
   "metadata": {
    "ExecuteTime": {
     "end_time": "2024-03-20T10:44:13.628843Z",
     "start_time": "2024-03-20T10:44:13.617990Z"
    }
   },
   "outputs": [
    {
     "data": {
      "text/plain": "b'{\"prediction\":[0],\"cashed\":false}'"
     },
     "execution_count": 6,
     "metadata": {},
     "output_type": "execute_result"
    }
   ],
   "source": [
    "data = requests.post('http://localhost:5555/predict',\n",
    "        json= {\n",
    "            'data': X.tolist()[0],\n",
    "})\n",
    "data.content # кэша нет"
   ]
  },
  {
   "cell_type": "code",
   "execution_count": 7,
   "metadata": {
    "ExecuteTime": {
     "end_time": "2024-03-20T10:44:13.659617Z",
     "start_time": "2024-03-20T10:44:13.631639Z"
    }
   },
   "outputs": [
    {
     "data": {
      "text/plain": "b'{\"prediction\":[0],\"cashed\":true}'"
     },
     "execution_count": 7,
     "metadata": {},
     "output_type": "execute_result"
    }
   ],
   "source": [
    "data = requests.post('http://localhost:5555/predict',\n",
    "        json= {\n",
    "            'data': X.tolist()[0],\n",
    "})\n",
    "data.content  # кэш есть"
   ]
  },
  {
   "cell_type": "markdown",
   "metadata": {},
   "source": [
    "# Предикт нескольких объектов и проверяем работу кэша"
   ]
  },
  {
   "cell_type": "code",
   "execution_count": 8,
   "metadata": {
    "ExecuteTime": {
     "end_time": "2024-03-20T10:44:13.660342Z",
     "start_time": "2024-03-20T10:44:13.641341Z"
    }
   },
   "outputs": [
    {
     "data": {
      "text/plain": "b'{\"predictions\":[[0],[0]],\"cashed\":[true,false]}'"
     },
     "execution_count": 8,
     "metadata": {},
     "output_type": "execute_result"
    }
   ],
   "source": [
    "data = requests.post('http://localhost:5555/predict/multiple',\n",
    "        json= {\n",
    "            'data': X.tolist()[:2],\n",
    "})\n",
    "data.content"
   ]
  },
  {
   "cell_type": "markdown",
   "metadata": {},
   "source": [
    "# Предикт 1 объекта в методе предназнченом для нескольких объектов"
   ]
  },
  {
   "cell_type": "code",
   "execution_count": 9,
   "metadata": {
    "ExecuteTime": {
     "end_time": "2024-03-20T10:44:13.660875Z",
     "start_time": "2024-03-20T10:44:13.652134Z"
    }
   },
   "outputs": [
    {
     "data": {
      "text/plain": "b'{\"detail\":\"Wrong data format\"}'"
     },
     "execution_count": 9,
     "metadata": {},
     "output_type": "execute_result"
    }
   ],
   "source": [
    "data = requests.post('http://localhost:5555/predict/multiple',\n",
    "        json= {\n",
    "            'data': X.tolist()[0],\n",
    "})\n",
    "data.content # получаем Wrong data format"
   ]
  },
  {
   "cell_type": "code",
   "execution_count": 9,
   "metadata": {
    "ExecuteTime": {
     "end_time": "2024-03-20T10:44:13.661714Z",
     "start_time": "2024-03-20T10:44:13.660067Z"
    }
   },
   "outputs": [],
   "source": []
  }
 ],
 "metadata": {
  "kernelspec": {
   "display_name": "adv_py",
   "language": "python",
   "name": "python3"
  },
  "language_info": {
   "codemirror_mode": {
    "name": "ipython",
    "version": 3
   },
   "file_extension": ".py",
   "mimetype": "text/x-python",
   "name": "python",
   "nbconvert_exporter": "python",
   "pygments_lexer": "ipython3",
   "version": "3.10.11"
  }
 },
 "nbformat": 4,
 "nbformat_minor": 2
}
